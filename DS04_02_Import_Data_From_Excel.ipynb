{
 "cells": [
  {
   "cell_type": "markdown",
   "metadata": {},
   "source": [
    "# Importing data from Excel\n",
    "1.\tUse pandas package to import Excel spreadsheets\n",
    "2.\tImport any given sheet of your loaded work book file as a DataFrame, by specifying either the **sheet's name** or its **index**.\n",
    "3.\tIt allows to skip rows, rename columns and select only particular columns.\n"
   ]
  },
  {
   "cell_type": "markdown",
   "metadata": {},
   "source": [
    "# Exercise 1: About current working Directory using script"
   ]
  },
  {
   "cell_type": "code",
   "execution_count": 1,
   "metadata": {
    "collapsed": true,
    "jupyter": {
     "outputs_hidden": true
    }
   },
   "outputs": [],
   "source": [
    "import os"
   ]
  },
  {
   "cell_type": "code",
   "execution_count": 2,
   "metadata": {},
   "outputs": [
    {
     "data": {
      "text/plain": [
       "'C:\\\\Users\\\\Hi\\\\Google Drive\\\\01 DS ML DL NLP and AI With Python Lab Copy\\\\03 Jupyter Notebooks\\\\Level 03_of_08_Python_Basic_Packages_for_DataScience'"
      ]
     },
     "execution_count": 2,
     "metadata": {},
     "output_type": "execute_result"
    }
   ],
   "source": [
    "os.getcwd()"
   ]
  },
  {
   "cell_type": "code",
   "execution_count": 3,
   "metadata": {
    "collapsed": true,
    "jupyter": {
     "outputs_hidden": true
    }
   },
   "outputs": [],
   "source": [
    "os.chdir(\"C:\\\\Users\\\\Hi\\\\Google Drive\\\\01 DS ML DL NLP and AI With Python Lab Copy\\\\02 Lab Data\\\\Python\")"
   ]
  },
  {
   "cell_type": "code",
   "execution_count": 4,
   "metadata": {},
   "outputs": [
    {
     "data": {
      "text/plain": [
       "'C:\\\\Users\\\\Hi\\\\Google Drive\\\\01 DS ML DL NLP and AI With Python Lab Copy\\\\02 Lab Data\\\\Python'"
      ]
     },
     "execution_count": 4,
     "metadata": {},
     "output_type": "execute_result"
    }
   ],
   "source": [
    "os.getcwd()"
   ]
  },
  {
   "cell_type": "markdown",
   "metadata": {},
   "source": [
    "# Exercise 2: Read Excel work sheet as dataframe"
   ]
  },
  {
   "cell_type": "code",
   "execution_count": 30,
   "metadata": {
    "collapsed": true,
    "jupyter": {
     "outputs_hidden": true
    }
   },
   "outputs": [],
   "source": [
    "pd.ExcelFile?"
   ]
  },
  {
   "cell_type": "code",
   "execution_count": 5,
   "metadata": {
    "collapsed": true,
    "jupyter": {
     "outputs_hidden": true
    }
   },
   "outputs": [],
   "source": [
    "import pandas as pd\n",
    "xl = pd.ExcelFile(\"ScottData.xlsx\")  # Load spreadsheet as: xl"
   ]
  },
  {
   "cell_type": "code",
   "execution_count": 7,
   "metadata": {},
   "outputs": [
    {
     "data": {
      "text/plain": [
       "pandas.io.excel.ExcelFile"
      ]
     },
     "execution_count": 7,
     "metadata": {},
     "output_type": "execute_result"
    }
   ],
   "source": [
    "type(xl)"
   ]
  },
  {
   "cell_type": "code",
   "execution_count": 8,
   "metadata": {},
   "outputs": [
    {
     "data": {
      "text/plain": [
       "<pandas.io.excel.ExcelFile at 0x586feb8>"
      ]
     },
     "execution_count": 8,
     "metadata": {},
     "output_type": "execute_result"
    }
   ],
   "source": [
    "xl"
   ]
  },
  {
   "cell_type": "code",
   "execution_count": 9,
   "metadata": {},
   "outputs": [
    {
     "name": "stdout",
     "output_type": "stream",
     "text": [
      "   DEPTNO       DNAME       LOC\n",
      "0      10  ACCOUNTING  NEW YORK\n",
      "1      20    RESEARCH    DALLAS\n",
      "2      30       SALES   CHICAGO\n",
      "3      40  OPERATIONS    BOSTON\n"
     ]
    }
   ],
   "source": [
    "df2 = xl.parse(1) # Load a sheet into a DataFrame by index: DEPT\n",
    "print(df2.head()) # Print the head of the DataFrame df2\n"
   ]
  },
  {
   "cell_type": "code",
   "execution_count": 27,
   "metadata": {
    "collapsed": true,
    "jupyter": {
     "outputs_hidden": true
    }
   },
   "outputs": [],
   "source": [
    "xl.parse?"
   ]
  },
  {
   "cell_type": "code",
   "execution_count": 28,
   "metadata": {},
   "outputs": [
    {
     "name": "stdout",
     "output_type": "stream",
     "text": [
      "    Employee Number Employee Name        Job  Manager Number   Hiredate   Sal  \\\n",
      "0              7369         SMITH      CLERK          7902.0 1980-12-17   800   \n",
      "1              7900         JAMES      CLERK          7698.0 1981-12-03   950   \n",
      "2              7876         ADAMS      CLERK          7788.0 1987-05-23  1100   \n",
      "3              7521          WARD   SALESMAN          7698.0 1981-02-22  1250   \n",
      "4              7654        MARTIN   SALESMAN          7698.0 1981-09-28  1250   \n",
      "5              7934        MILLER      CLERK          7782.0 1982-01-23  1300   \n",
      "6              7844        TURNER   SALESMAN          7698.0 1981-09-08  1500   \n",
      "7              7499         ALLEN   SALESMAN          7698.0 1981-02-20  1600   \n",
      "8              7782         CLARK    MANAGER          7839.0 1981-06-09  2450   \n",
      "9              7698         BLAKE    MANAGER          7839.0 1981-05-01  2850   \n",
      "10             7566         JONES    MANAGER          7839.0 1981-04-02  2975   \n",
      "11             7788         SCOTT    ANALYST          7566.0 1987-04-19  3000   \n",
      "12             7902          FORD    ANALYST          7566.0 1981-12-03  3000   \n",
      "13             7839          KING  PRESIDENT             NaN 1981-11-17  5000   \n",
      "\n",
      "      comm  Deptno  \n",
      "0      NaN      20  \n",
      "1      NaN      30  \n",
      "2      NaN      20  \n",
      "3    500.0      30  \n",
      "4   1400.0      30  \n",
      "5      NaN      10  \n",
      "6      0.0      30  \n",
      "7    300.0      30  \n",
      "8      NaN      10  \n",
      "9      NaN      30  \n",
      "10     NaN      20  \n",
      "11     NaN      20  \n",
      "12     NaN      20  \n",
      "13     NaN      10  \n"
     ]
    }
   ],
   "source": [
    "# Parse the first sheet and rename the columns: df3\n",
    "df3 = xl.parse(0, names=['Employee Number', 'Employee Name',\n",
    "                         'Job','Manager Number','Hiredate','Sal','comm','Deptno'])\n",
    "print(df3.head(14)) # Print the head of the DataFrame df3\n"
   ]
  },
  {
   "cell_type": "code",
   "execution_count": 29,
   "metadata": {},
   "outputs": [
    {
     "name": "stdout",
     "output_type": "stream",
     "text": [
      "   Dept Number\n",
      "0           10\n",
      "1           20\n",
      "2           30\n",
      "3           40\n"
     ]
    }
   ],
   "source": [
    "# Parse the first column of the second sheet and rename the column: df4\n",
    "df4 = xl.parse(1, \n",
    "               parse_cols=[0], \n",
    "               names=['Dept Number'])\n",
    "print(df4.head()) # Print the head of the DataFrame df4\n"
   ]
  },
  {
   "cell_type": "markdown",
   "metadata": {},
   "source": [
    "# Other way to create dataframe using pandas"
   ]
  },
  {
   "cell_type": "code",
   "execution_count": 31,
   "metadata": {
    "collapsed": true,
    "jupyter": {
     "outputs_hidden": true
    }
   },
   "outputs": [],
   "source": [
    "pd.read_excel?"
   ]
  },
  {
   "cell_type": "code",
   "execution_count": 18,
   "metadata": {
    "collapsed": true,
    "jupyter": {
     "outputs_hidden": true
    }
   },
   "outputs": [],
   "source": [
    "df = pd.read_excel(io=xl,sheetname=\"DEPT\")"
   ]
  },
  {
   "cell_type": "code",
   "execution_count": 19,
   "metadata": {},
   "outputs": [
    {
     "data": {
      "text/html": [
       "<div>\n",
       "<style>\n",
       "    .dataframe thead tr:only-child th {\n",
       "        text-align: right;\n",
       "    }\n",
       "\n",
       "    .dataframe thead th {\n",
       "        text-align: left;\n",
       "    }\n",
       "\n",
       "    .dataframe tbody tr th {\n",
       "        vertical-align: top;\n",
       "    }\n",
       "</style>\n",
       "<table border=\"1\" class=\"dataframe\">\n",
       "  <thead>\n",
       "    <tr style=\"text-align: right;\">\n",
       "      <th></th>\n",
       "      <th>DEPTNO</th>\n",
       "      <th>DNAME</th>\n",
       "      <th>LOC</th>\n",
       "    </tr>\n",
       "  </thead>\n",
       "  <tbody>\n",
       "    <tr>\n",
       "      <th>0</th>\n",
       "      <td>10</td>\n",
       "      <td>ACCOUNTING</td>\n",
       "      <td>NEW YORK</td>\n",
       "    </tr>\n",
       "    <tr>\n",
       "      <th>1</th>\n",
       "      <td>20</td>\n",
       "      <td>RESEARCH</td>\n",
       "      <td>DALLAS</td>\n",
       "    </tr>\n",
       "    <tr>\n",
       "      <th>2</th>\n",
       "      <td>30</td>\n",
       "      <td>SALES</td>\n",
       "      <td>CHICAGO</td>\n",
       "    </tr>\n",
       "    <tr>\n",
       "      <th>3</th>\n",
       "      <td>40</td>\n",
       "      <td>OPERATIONS</td>\n",
       "      <td>BOSTON</td>\n",
       "    </tr>\n",
       "  </tbody>\n",
       "</table>\n",
       "</div>"
      ],
      "text/plain": [
       "   DEPTNO       DNAME       LOC\n",
       "0      10  ACCOUNTING  NEW YORK\n",
       "1      20    RESEARCH    DALLAS\n",
       "2      30       SALES   CHICAGO\n",
       "3      40  OPERATIONS    BOSTON"
      ]
     },
     "execution_count": 19,
     "metadata": {},
     "output_type": "execute_result"
    }
   ],
   "source": [
    "df"
   ]
  },
  {
   "cell_type": "markdown",
   "metadata": {},
   "source": [
    "# Exercise 2: Write data from dataframe to excel"
   ]
  },
  {
   "cell_type": "code",
   "execution_count": 39,
   "metadata": {
    "collapsed": true,
    "jupyter": {
     "outputs_hidden": true
    }
   },
   "outputs": [],
   "source": [
    "pd.DataFrame?"
   ]
  },
  {
   "cell_type": "code",
   "execution_count": 1,
   "metadata": {},
   "outputs": [
    {
     "data": {
      "text/html": [
       "<div>\n",
       "<style scoped>\n",
       "    .dataframe tbody tr th:only-of-type {\n",
       "        vertical-align: middle;\n",
       "    }\n",
       "\n",
       "    .dataframe tbody tr th {\n",
       "        vertical-align: top;\n",
       "    }\n",
       "\n",
       "    .dataframe thead th {\n",
       "        text-align: right;\n",
       "    }\n",
       "</style>\n",
       "<table border=\"1\" class=\"dataframe\">\n",
       "  <thead>\n",
       "    <tr style=\"text-align: right;\">\n",
       "      <th></th>\n",
       "      <th>Data</th>\n",
       "    </tr>\n",
       "  </thead>\n",
       "  <tbody>\n",
       "    <tr>\n",
       "      <th>0</th>\n",
       "      <td>10</td>\n",
       "    </tr>\n",
       "    <tr>\n",
       "      <th>1</th>\n",
       "      <td>20</td>\n",
       "    </tr>\n",
       "    <tr>\n",
       "      <th>2</th>\n",
       "      <td>30</td>\n",
       "    </tr>\n",
       "    <tr>\n",
       "      <th>3</th>\n",
       "      <td>20</td>\n",
       "    </tr>\n",
       "    <tr>\n",
       "      <th>4</th>\n",
       "      <td>15</td>\n",
       "    </tr>\n",
       "    <tr>\n",
       "      <th>5</th>\n",
       "      <td>30</td>\n",
       "    </tr>\n",
       "    <tr>\n",
       "      <th>6</th>\n",
       "      <td>45</td>\n",
       "    </tr>\n",
       "  </tbody>\n",
       "</table>\n",
       "</div>"
      ],
      "text/plain": [
       "   Data\n",
       "0    10\n",
       "1    20\n",
       "2    30\n",
       "3    20\n",
       "4    15\n",
       "5    30\n",
       "6    45"
      ]
     },
     "execution_count": 1,
     "metadata": {},
     "output_type": "execute_result"
    }
   ],
   "source": [
    "import pandas as pd\n",
    "# Create a Pandas dataframe from the data.\n",
    "df = pd.DataFrame({'Data': [10, 20, 30, 20, 15, 30, 45]})\n",
    "df # verfiy data frame data\n"
   ]
  },
  {
   "cell_type": "code",
   "execution_count": 2,
   "metadata": {},
   "outputs": [
    {
     "data": {
      "text/plain": [
       "\u001b[1;31mInit signature:\u001b[0m \u001b[0mpd\u001b[0m\u001b[1;33m.\u001b[0m\u001b[0mExcelWriter\u001b[0m\u001b[1;33m(\u001b[0m\u001b[0mpath\u001b[0m\u001b[1;33m,\u001b[0m \u001b[0mengine\u001b[0m\u001b[1;33m=\u001b[0m\u001b[1;32mNone\u001b[0m\u001b[1;33m,\u001b[0m \u001b[1;33m**\u001b[0m\u001b[0mkwargs\u001b[0m\u001b[1;33m)\u001b[0m\u001b[1;33m\u001b[0m\u001b[1;33m\u001b[0m\u001b[0m\n",
       "\u001b[1;31mDocstring:\u001b[0m     \n",
       "Class for writing DataFrame objects into excel sheets, default is to use\n",
       "xlwt for xls, openpyxl for xlsx.  See DataFrame.to_excel for typical usage.\n",
       "\n",
       "Parameters\n",
       "----------\n",
       "path : string\n",
       "    Path to xls or xlsx file.\n",
       "engine : string (optional)\n",
       "    Engine to use for writing. If None, defaults to\n",
       "    ``io.excel.<extension>.writer``.  NOTE: can only be passed as a keyword\n",
       "    argument.\n",
       "date_format : string, default None\n",
       "    Format string for dates written into Excel files (e.g. 'YYYY-MM-DD')\n",
       "datetime_format : string, default None\n",
       "    Format string for datetime objects written into Excel files\n",
       "    (e.g. 'YYYY-MM-DD HH:MM:SS')\n",
       "mode : {'w', 'a'}, default 'w'\n",
       "    File mode to use (write or append).\n",
       "\n",
       "    .. versionadded:: 0.24.0\n",
       "\n",
       "Attributes\n",
       "----------\n",
       "None\n",
       "\n",
       "Methods\n",
       "-------\n",
       "None\n",
       "\n",
       "Notes\n",
       "-----\n",
       "None of the methods and properties are considered public.\n",
       "\n",
       "For compatibility with CSV writers, ExcelWriter serializes lists\n",
       "and dicts to strings before writing.\n",
       "\n",
       "Examples\n",
       "--------\n",
       "Default usage:\n",
       "\n",
       ">>> with ExcelWriter('path_to_file.xlsx') as writer:\n",
       "...     df.to_excel(writer)\n",
       "\n",
       "To write to separate sheets in a single file:\n",
       "\n",
       ">>> with ExcelWriter('path_to_file.xlsx') as writer:\n",
       "...     df1.to_excel(writer, sheet_name='Sheet1')\n",
       "...     df2.to_excel(writer, sheet_name='Sheet2')\n",
       "\n",
       "You can set the date format or datetime format:\n",
       "\n",
       ">>> with ExcelWriter('path_to_file.xlsx',\n",
       "                      date_format='YYYY-MM-DD',\n",
       "                      datetime_format='YYYY-MM-DD HH:MM:SS') as writer:\n",
       "...     df.to_excel(writer)\n",
       "\n",
       "You can also append to an existing Excel file:\n",
       "\n",
       ">>> with ExcelWriter('path_to_file.xlsx', mode='a') as writer:\n",
       "...     df.to_excel(writer, sheet_name='Sheet3')\n",
       "\u001b[1;31mFile:\u001b[0m           c:\\users\\ramreddymyla\\anaconda3\\envs\\dl\\lib\\site-packages\\pandas\\io\\excel\\_base.py\n",
       "\u001b[1;31mType:\u001b[0m           ABCMeta\n",
       "\u001b[1;31mSubclasses:\u001b[0m     _OpenpyxlWriter, _XlsxWriter, _XlwtWriter\n"
      ]
     },
     "metadata": {},
     "output_type": "display_data"
    }
   ],
   "source": [
    "pd.ExcelWriter?"
   ]
  },
  {
   "cell_type": "code",
   "execution_count": 4,
   "metadata": {},
   "outputs": [],
   "source": [
    "import pandas as pd\n",
    "# Create a Pandas Excel writer using XlsxWriter as the engine.\n",
    "writer = pd.ExcelWriter('pandas_simple_13feb2019.xlsx',\n",
    "                        engine='xlsxwriter')\n"
   ]
  },
  {
   "cell_type": "code",
   "execution_count": 5,
   "metadata": {},
   "outputs": [
    {
     "data": {
      "text/plain": [
       "pandas.io.excel._xlsxwriter._XlsxWriter"
      ]
     },
     "execution_count": 5,
     "metadata": {},
     "output_type": "execute_result"
    }
   ],
   "source": [
    "type(writer)"
   ]
  },
  {
   "cell_type": "code",
   "execution_count": 6,
   "metadata": {},
   "outputs": [
    {
     "data": {
      "text/plain": [
       "\u001b[1;31mSignature:\u001b[0m\n",
       "\u001b[0mdf\u001b[0m\u001b[1;33m.\u001b[0m\u001b[0mto_excel\u001b[0m\u001b[1;33m(\u001b[0m\u001b[1;33m\n",
       "\u001b[0m    \u001b[0mexcel_writer\u001b[0m\u001b[1;33m,\u001b[0m\u001b[1;33m\n",
       "\u001b[0m    \u001b[0msheet_name\u001b[0m\u001b[1;33m=\u001b[0m\u001b[1;34m'Sheet1'\u001b[0m\u001b[1;33m,\u001b[0m\u001b[1;33m\n",
       "\u001b[0m    \u001b[0mna_rep\u001b[0m\u001b[1;33m=\u001b[0m\u001b[1;34m''\u001b[0m\u001b[1;33m,\u001b[0m\u001b[1;33m\n",
       "\u001b[0m    \u001b[0mfloat_format\u001b[0m\u001b[1;33m=\u001b[0m\u001b[1;32mNone\u001b[0m\u001b[1;33m,\u001b[0m\u001b[1;33m\n",
       "\u001b[0m    \u001b[0mcolumns\u001b[0m\u001b[1;33m=\u001b[0m\u001b[1;32mNone\u001b[0m\u001b[1;33m,\u001b[0m\u001b[1;33m\n",
       "\u001b[0m    \u001b[0mheader\u001b[0m\u001b[1;33m=\u001b[0m\u001b[1;32mTrue\u001b[0m\u001b[1;33m,\u001b[0m\u001b[1;33m\n",
       "\u001b[0m    \u001b[0mindex\u001b[0m\u001b[1;33m=\u001b[0m\u001b[1;32mTrue\u001b[0m\u001b[1;33m,\u001b[0m\u001b[1;33m\n",
       "\u001b[0m    \u001b[0mindex_label\u001b[0m\u001b[1;33m=\u001b[0m\u001b[1;32mNone\u001b[0m\u001b[1;33m,\u001b[0m\u001b[1;33m\n",
       "\u001b[0m    \u001b[0mstartrow\u001b[0m\u001b[1;33m=\u001b[0m\u001b[1;36m0\u001b[0m\u001b[1;33m,\u001b[0m\u001b[1;33m\n",
       "\u001b[0m    \u001b[0mstartcol\u001b[0m\u001b[1;33m=\u001b[0m\u001b[1;36m0\u001b[0m\u001b[1;33m,\u001b[0m\u001b[1;33m\n",
       "\u001b[0m    \u001b[0mengine\u001b[0m\u001b[1;33m=\u001b[0m\u001b[1;32mNone\u001b[0m\u001b[1;33m,\u001b[0m\u001b[1;33m\n",
       "\u001b[0m    \u001b[0mmerge_cells\u001b[0m\u001b[1;33m=\u001b[0m\u001b[1;32mTrue\u001b[0m\u001b[1;33m,\u001b[0m\u001b[1;33m\n",
       "\u001b[0m    \u001b[0mencoding\u001b[0m\u001b[1;33m=\u001b[0m\u001b[1;32mNone\u001b[0m\u001b[1;33m,\u001b[0m\u001b[1;33m\n",
       "\u001b[0m    \u001b[0minf_rep\u001b[0m\u001b[1;33m=\u001b[0m\u001b[1;34m'inf'\u001b[0m\u001b[1;33m,\u001b[0m\u001b[1;33m\n",
       "\u001b[0m    \u001b[0mverbose\u001b[0m\u001b[1;33m=\u001b[0m\u001b[1;32mTrue\u001b[0m\u001b[1;33m,\u001b[0m\u001b[1;33m\n",
       "\u001b[0m    \u001b[0mfreeze_panes\u001b[0m\u001b[1;33m=\u001b[0m\u001b[1;32mNone\u001b[0m\u001b[1;33m,\u001b[0m\u001b[1;33m\n",
       "\u001b[0m\u001b[1;33m)\u001b[0m\u001b[1;33m\u001b[0m\u001b[1;33m\u001b[0m\u001b[0m\n",
       "\u001b[1;31mDocstring:\u001b[0m\n",
       "Write object to an Excel sheet.\n",
       "\n",
       "To write a single object to an Excel .xlsx file it is only necessary to\n",
       "specify a target file name. To write to multiple sheets it is necessary to\n",
       "create an `ExcelWriter` object with a target file name, and specify a sheet\n",
       "in the file to write to.\n",
       "\n",
       "Multiple sheets may be written to by specifying unique `sheet_name`.\n",
       "With all data written to the file it is necessary to save the changes.\n",
       "Note that creating an `ExcelWriter` object with a file name that already\n",
       "exists will result in the contents of the existing file being erased.\n",
       "\n",
       "Parameters\n",
       "----------\n",
       "excel_writer : str or ExcelWriter object\n",
       "    File path or existing ExcelWriter.\n",
       "sheet_name : str, default 'Sheet1'\n",
       "    Name of sheet which will contain DataFrame.\n",
       "na_rep : str, default ''\n",
       "    Missing data representation.\n",
       "float_format : str, optional\n",
       "    Format string for floating point numbers. For example\n",
       "    ``float_format=\"%.2f\"`` will format 0.1234 to 0.12.\n",
       "columns : sequence or list of str, optional\n",
       "    Columns to write.\n",
       "header : bool or list of str, default True\n",
       "    Write out the column names. If a list of string is given it is\n",
       "    assumed to be aliases for the column names.\n",
       "index : bool, default True\n",
       "    Write row names (index).\n",
       "index_label : str or sequence, optional\n",
       "    Column label for index column(s) if desired. If not specified, and\n",
       "    `header` and `index` are True, then the index names are used. A\n",
       "    sequence should be given if the DataFrame uses MultiIndex.\n",
       "startrow : int, default 0\n",
       "    Upper left cell row to dump data frame.\n",
       "startcol : int, default 0\n",
       "    Upper left cell column to dump data frame.\n",
       "engine : str, optional\n",
       "    Write engine to use, 'openpyxl' or 'xlsxwriter'. You can also set this\n",
       "    via the options ``io.excel.xlsx.writer``, ``io.excel.xls.writer``, and\n",
       "    ``io.excel.xlsm.writer``.\n",
       "merge_cells : bool, default True\n",
       "    Write MultiIndex and Hierarchical Rows as merged cells.\n",
       "encoding : str, optional\n",
       "    Encoding of the resulting excel file. Only necessary for xlwt,\n",
       "    other writers support unicode natively.\n",
       "inf_rep : str, default 'inf'\n",
       "    Representation for infinity (there is no native representation for\n",
       "    infinity in Excel).\n",
       "verbose : bool, default True\n",
       "    Display more information in the error logs.\n",
       "freeze_panes : tuple of int (length 2), optional\n",
       "    Specifies the one-based bottommost row and rightmost column that\n",
       "    is to be frozen.\n",
       "\n",
       "    .. versionadded:: 0.20.0.\n",
       "\n",
       "See Also\n",
       "--------\n",
       "to_csv : Write DataFrame to a comma-separated values (csv) file.\n",
       "ExcelWriter : Class for writing DataFrame objects into excel sheets.\n",
       "read_excel : Read an Excel file into a pandas DataFrame.\n",
       "read_csv : Read a comma-separated values (csv) file into DataFrame.\n",
       "\n",
       "Notes\n",
       "-----\n",
       "For compatibility with :meth:`~DataFrame.to_csv`,\n",
       "to_excel serializes lists and dicts to strings before writing.\n",
       "\n",
       "Once a workbook has been saved it is not possible write further data\n",
       "without rewriting the whole workbook.\n",
       "\n",
       "Examples\n",
       "--------\n",
       "\n",
       "Create, write to and save a workbook:\n",
       "\n",
       ">>> df1 = pd.DataFrame([['a', 'b'], ['c', 'd']],\n",
       "...                    index=['row 1', 'row 2'],\n",
       "...                    columns=['col 1', 'col 2'])\n",
       ">>> df1.to_excel(\"output.xlsx\")  # doctest: +SKIP\n",
       "\n",
       "To specify the sheet name:\n",
       "\n",
       ">>> df1.to_excel(\"output.xlsx\",\n",
       "...              sheet_name='Sheet_name_1')  # doctest: +SKIP\n",
       "\n",
       "If you wish to write to more than one sheet in the workbook, it is\n",
       "necessary to specify an ExcelWriter object:\n",
       "\n",
       ">>> df2 = df1.copy()\n",
       ">>> with pd.ExcelWriter('output.xlsx') as writer:  # doctest: +SKIP\n",
       "...     df1.to_excel(writer, sheet_name='Sheet_name_1')\n",
       "...     df2.to_excel(writer, sheet_name='Sheet_name_2')\n",
       "\n",
       "To set the library that is used to write the Excel file,\n",
       "you can pass the `engine` keyword (the default engine is\n",
       "automatically chosen depending on the file extension):\n",
       "\n",
       ">>> df1.to_excel('output1.xlsx', engine='xlsxwriter')  # doctest: +SKIP\n",
       "\u001b[1;31mFile:\u001b[0m      c:\\users\\ramreddymyla\\anaconda3\\envs\\dl\\lib\\site-packages\\pandas\\core\\generic.py\n",
       "\u001b[1;31mType:\u001b[0m      method\n"
      ]
     },
     "metadata": {},
     "output_type": "display_data"
    }
   ],
   "source": [
    "df.to_excel?"
   ]
  },
  {
   "cell_type": "code",
   "execution_count": 7,
   "metadata": {},
   "outputs": [],
   "source": [
    "# Convert the dataframe to an XlsxWriter Excel object.\n",
    "df.to_excel(writer, sheet_name='Sheet1')\n",
    "writer.save() # Close the Pandas Excel writer and output the Excel file.\n"
   ]
  },
  {
   "cell_type": "markdown",
   "metadata": {},
   "source": [
    "[Refer more about Excel reading and writeing](http://xlsxwriter.readthedocs.io/working_with_pandas.html)"
   ]
  },
  {
   "cell_type": "markdown",
   "metadata": {},
   "source": [
    "# one example of conditional formating"
   ]
  },
  {
   "cell_type": "code",
   "execution_count": 38,
   "metadata": {
    "collapsed": true,
    "jupyter": {
     "outputs_hidden": true
    }
   },
   "outputs": [],
   "source": [
    "import xlsxwriter\n",
    "\n",
    "workbook = xlsxwriter.Workbook('conditional_format.xlsx')\n",
    "worksheet1 = workbook.add_worksheet()\n",
    "worksheet2 = workbook.add_worksheet()\n",
    "worksheet3 = workbook.add_worksheet()\n",
    "worksheet4 = workbook.add_worksheet()\n",
    "worksheet5 = workbook.add_worksheet()\n",
    "worksheet6 = workbook.add_worksheet()\n",
    "worksheet7 = workbook.add_worksheet()\n",
    "worksheet8 = workbook.add_worksheet()\n",
    "worksheet9 = workbook.add_worksheet()\n",
    "\n",
    "# Add a format. Light red fill with dark red text.\n",
    "format1 = workbook.add_format({'bg_color': '#FFC7CE',\n",
    "                               'font_color': '#9C0006'})\n",
    "\n",
    "# Add a format. Green fill with dark green text.\n",
    "format2 = workbook.add_format({'bg_color': '#C6EFCE',\n",
    "                               'font_color': '#006100'})\n",
    "\n",
    "# Some sample data to run the conditional formatting against.\n",
    "data = [\n",
    "    [34, 72, 38, 30, 75, 48, 75, 66, 84, 86],\n",
    "    [6, 24, 1, 84, 54, 62, 60, 3, 26, 59],\n",
    "    [28, 79, 97, 13, 85, 93, 93, 22, 5, 14],\n",
    "    [27, 71, 40, 17, 18, 79, 90, 93, 29, 47],\n",
    "    [88, 25, 33, 23, 67, 1, 59, 79, 47, 36],\n",
    "    [24, 100, 20, 88, 29, 33, 38, 54, 54, 88],\n",
    "    [6, 57, 88, 28, 10, 26, 37, 7, 41, 48],\n",
    "    [52, 78, 1, 96, 26, 45, 47, 33, 96, 36],\n",
    "    [60, 54, 81, 66, 81, 90, 80, 93, 12, 55],\n",
    "    [70, 5, 46, 14, 71, 19, 66, 36, 41, 21],\n",
    "]\n",
    "\n",
    "\n",
    "###############################################################################\n",
    "#\n",
    "# Example 1.\n",
    "#\n",
    "caption = ('Cells with values >= 50 are in light red. '\n",
    "           'Values < 50 are in light green.')\n",
    "\n",
    "# Write the data.\n",
    "worksheet1.write('A1', caption)\n",
    "\n",
    "for row, row_data in enumerate(data):\n",
    "    worksheet1.write_row(row + 2, 1, row_data)\n",
    "\n",
    "# Write a conditional format over a range.\n",
    "worksheet1.conditional_format('B3:K12', {'type': 'cell',\n",
    "                                         'criteria': '>=',\n",
    "                                         'value': 50,\n",
    "                                         'format': format1})\n",
    "\n",
    "# Write another conditional format over the same range.\n",
    "worksheet1.conditional_format('B3:K12', {'type': 'cell',\n",
    "                                         'criteria': '<',\n",
    "                                         'value': 50,\n",
    "                                         'format': format2})\n",
    "\n",
    "workbook.close()"
   ]
  },
  {
   "cell_type": "code",
   "execution_count": null,
   "metadata": {
    "collapsed": true,
    "jupyter": {
     "outputs_hidden": true
    }
   },
   "outputs": [],
   "source": []
  }
 ],
 "metadata": {
  "kernelspec": {
   "display_name": "Python 3",
   "language": "python",
   "name": "python3"
  },
  "language_info": {
   "codemirror_mode": {
    "name": "ipython",
    "version": 3
   },
   "file_extension": ".py",
   "mimetype": "text/x-python",
   "name": "python",
   "nbconvert_exporter": "python",
   "pygments_lexer": "ipython3",
   "version": "3.6.9"
  }
 },
 "nbformat": 4,
 "nbformat_minor": 4
}
