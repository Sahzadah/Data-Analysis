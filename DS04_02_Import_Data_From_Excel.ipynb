{
 "cells": [
  {
   "cell_type": "markdown",
   "metadata": {},
   "source": [
    "# Working with Excel\n",
    "1.\tUse pandas package to import Excel spreadsheets\n",
    "2.\tImport any given sheet of your loaded work book file as a DataFrame, by specifying either the **sheet's name** or its **index**.\n",
    "3.\tIt allows to skip rows, rename columns and select only particular columns.\n"
   ]
  },
  {
   "cell_type": "markdown",
   "metadata": {},
   "source": [
    "## Change Current Working Directory"
   ]
  },
  {
   "cell_type": "code",
   "execution_count": 19,
   "metadata": {},
   "outputs": [],
   "source": [
    "import os"
   ]
  },
  {
   "cell_type": "code",
   "execution_count": 20,
   "metadata": {},
   "outputs": [
    {
     "data": {
      "text/plain": [
       "'C:\\\\Users\\\\ramreddymyla\\\\Google Drive\\\\01 DS ML DL NLP and AI With Python Lab Copy\\\\02 Lab Data\\\\Python'"
      ]
     },
     "execution_count": 20,
     "metadata": {},
     "output_type": "execute_result"
    }
   ],
   "source": [
    "os.getcwd()"
   ]
  },
  {
   "cell_type": "code",
   "execution_count": 21,
   "metadata": {},
   "outputs": [],
   "source": [
    "os.chdir(\"C:\\\\Users\\\\ramreddymyla\\\\Google Drive\\\\01 DS ML DL NLP and AI With Python Lab Copy\\\\02 Lab Data\\\\Python\")"
   ]
  },
  {
   "cell_type": "code",
   "execution_count": 22,
   "metadata": {},
   "outputs": [
    {
     "data": {
      "text/plain": [
       "'C:\\\\Users\\\\ramreddymyla\\\\Google Drive\\\\01 DS ML DL NLP and AI With Python Lab Copy\\\\02 Lab Data\\\\Python'"
      ]
     },
     "execution_count": 22,
     "metadata": {},
     "output_type": "execute_result"
    }
   ],
   "source": [
    "os.getcwd()"
   ]
  },
  {
   "cell_type": "markdown",
   "metadata": {},
   "source": [
    "## Create `DataFrame` from `Excel`"
   ]
  },
  {
   "cell_type": "code",
   "execution_count": 23,
   "metadata": {},
   "outputs": [],
   "source": [
    "#pd.read_excel?"
   ]
  },
  {
   "cell_type": "code",
   "execution_count": 24,
   "metadata": {},
   "outputs": [],
   "source": [
    "import pandas as pd\n",
    "df = pd.read_excel(\"ScottData.xlsx\",sheet_name=\"DEPT\")"
   ]
  },
  {
   "cell_type": "code",
   "execution_count": 25,
   "metadata": {},
   "outputs": [
    {
     "data": {
      "text/html": [
       "<div>\n",
       "<style scoped>\n",
       "    .dataframe tbody tr th:only-of-type {\n",
       "        vertical-align: middle;\n",
       "    }\n",
       "\n",
       "    .dataframe tbody tr th {\n",
       "        vertical-align: top;\n",
       "    }\n",
       "\n",
       "    .dataframe thead th {\n",
       "        text-align: right;\n",
       "    }\n",
       "</style>\n",
       "<table border=\"1\" class=\"dataframe\">\n",
       "  <thead>\n",
       "    <tr style=\"text-align: right;\">\n",
       "      <th></th>\n",
       "      <th>DEPTNO</th>\n",
       "      <th>DNAME</th>\n",
       "      <th>LOC</th>\n",
       "    </tr>\n",
       "  </thead>\n",
       "  <tbody>\n",
       "    <tr>\n",
       "      <th>0</th>\n",
       "      <td>10</td>\n",
       "      <td>ACCOUNTING</td>\n",
       "      <td>NEW YORK</td>\n",
       "    </tr>\n",
       "    <tr>\n",
       "      <th>1</th>\n",
       "      <td>20</td>\n",
       "      <td>RESEARCH</td>\n",
       "      <td>DALLAS</td>\n",
       "    </tr>\n",
       "    <tr>\n",
       "      <th>2</th>\n",
       "      <td>30</td>\n",
       "      <td>SALES</td>\n",
       "      <td>CHICAGO</td>\n",
       "    </tr>\n",
       "    <tr>\n",
       "      <th>3</th>\n",
       "      <td>40</td>\n",
       "      <td>OPERATIONS</td>\n",
       "      <td>BOSTON</td>\n",
       "    </tr>\n",
       "  </tbody>\n",
       "</table>\n",
       "</div>"
      ],
      "text/plain": [
       "   DEPTNO       DNAME       LOC\n",
       "0      10  ACCOUNTING  NEW YORK\n",
       "1      20    RESEARCH    DALLAS\n",
       "2      30       SALES   CHICAGO\n",
       "3      40  OPERATIONS    BOSTON"
      ]
     },
     "execution_count": 25,
     "metadata": {},
     "output_type": "execute_result"
    }
   ],
   "source": [
    "df"
   ]
  },
  {
   "cell_type": "markdown",
   "metadata": {},
   "source": [
    "## Write `DataFrame` data into `Excel`"
   ]
  },
  {
   "cell_type": "code",
   "execution_count": 26,
   "metadata": {},
   "outputs": [],
   "source": [
    "# Convert the dataframe to an XlsxWriter Excel object.\n",
    "df.to_excel(\"test.xlsx\", sheet_name='Sheet1')\n",
    "#writer.save() # Close the Pandas Excel writer and output the Excel file.\n"
   ]
  },
  {
   "cell_type": "markdown",
   "metadata": {},
   "source": [
    "## Conditional formating from below website"
   ]
  },
  {
   "cell_type": "markdown",
   "metadata": {},
   "source": [
    "[Refer more about Excel reading and writeing](http://xlsxwriter.readthedocs.io/working_with_pandas.html)"
   ]
  },
  {
   "cell_type": "code",
   "execution_count": 29,
   "metadata": {},
   "outputs": [],
   "source": [
    "import xlsxwriter\n",
    "\n",
    "workbook = xlsxwriter.Workbook('conditional_format.xlsx')\n",
    "worksheet1 = workbook.add_worksheet()\n",
    "worksheet2 = workbook.add_worksheet()\n",
    "\n",
    "\n",
    "# Add a format. Light red fill with dark red text.\n",
    "format1 = workbook.add_format({'bg_color': '#FFC7CE',\n",
    "                               'font_color': '#9C0006'})\n",
    "\n",
    "# Add a format. Green fill with dark green text.\n",
    "format2 = workbook.add_format({'bg_color': '#C6EFCE',\n",
    "                               'font_color': '#006100'})\n",
    "\n",
    "# Some sample data to run the conditional formatting against.\n",
    "data = [\n",
    "    [34, 72, 38, 30, 75, 48, 75, 66, 84, 86],\n",
    "    [6, 24, 1, 84, 54, 62, 60, 3, 26, 59],\n",
    "    [28, 79, 97, 13, 85, 93, 93, 22, 5, 14],\n",
    "    [27, 71, 40, 17, 18, 79, 90, 93, 29, 47],\n",
    "    [88, 25, 33, 23, 67, 1, 59, 79, 47, 36],\n",
    "    [24, 100, 20, 88, 29, 33, 38, 54, 54, 88],\n",
    "    [6, 57, 88, 28, 10, 26, 37, 7, 41, 48],\n",
    "    [52, 78, 1, 96, 26, 45, 47, 33, 96, 36],\n",
    "    [60, 54, 81, 66, 81, 90, 80, 93, 12, 55],\n",
    "    [70, 5, 46, 14, 71, 19, 66, 36, 41, 21],\n",
    "]\n",
    "\n",
    "\n",
    "###############################################################################\n",
    "#\n",
    "# Example 1.\n",
    "#\n",
    "caption = ('Cells with values >= 50 are in light red. '\n",
    "           'Values < 50 are in light green.')\n",
    "\n",
    "# Write the data.\n",
    "worksheet1.write('A1', caption)\n",
    "\n",
    "for row, row_data in enumerate(data):\n",
    "    worksheet1.write_row(row + 2, 1, row_data)\n",
    "\n",
    "# Write a conditional format over a range.\n",
    "worksheet1.conditional_format('B3:K12', {'type': 'cell',\n",
    "                                         'criteria': '>=',\n",
    "                                         'value': 50,\n",
    "                                         'format': format1})\n",
    "\n",
    "# Write another conditional format over the same range.\n",
    "worksheet1.conditional_format('B3:K12', {'type': 'cell',\n",
    "                                         'criteria': '<',\n",
    "                                         'value': 50,\n",
    "                                         'format': format2})\n",
    "\n",
    "workbook.close()"
   ]
  },
  {
   "cell_type": "code",
   "execution_count": null,
   "metadata": {
    "collapsed": true,
    "jupyter": {
     "outputs_hidden": true
    }
   },
   "outputs": [],
   "source": []
  },
  {
   "cell_type": "code",
   "execution_count": null,
   "metadata": {},
   "outputs": [],
   "source": []
  }
 ],
 "metadata": {
  "kernelspec": {
   "display_name": "Python 3",
   "language": "python",
   "name": "python3"
  },
  "language_info": {
   "codemirror_mode": {
    "name": "ipython",
    "version": 3
   },
   "file_extension": ".py",
   "mimetype": "text/x-python",
   "name": "python",
   "nbconvert_exporter": "python",
   "pygments_lexer": "ipython3",
   "version": "3.6.9"
  }
 },
 "nbformat": 4,
 "nbformat_minor": 4
}
