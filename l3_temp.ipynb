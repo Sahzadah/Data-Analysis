{
 "cells": [
  {
   "cell_type": "markdown",
   "metadata": {},
   "source": [
    "# open"
   ]
  },
  {
   "cell_type": "code",
   "execution_count": 7,
   "metadata": {},
   "outputs": [],
   "source": [
    "io=open(\"data/plain_text.txt\")"
   ]
  },
  {
   "cell_type": "code",
   "execution_count": 8,
   "metadata": {},
   "outputs": [
    {
     "data": {
      "text/plain": [
       "\"RRITEC is Very Good Training Center\\nRRITEC provides Videos\\nRRITEC Provides Industry standard Material\\nDATASCIENCE WITH R and PYRHON are very good\\nBeautiful is better than ugly.\\nExplicit is better than implicit.\\nSimple is better than complex.\\nComplex is better than complicated.\\nFlat is better than nested.\\nSparse is better than dense.\\nReadability counts.\\nSpecial cases aren't special enough to break the rules.\\nAlthough practicality beats purity.\\nErrors should never pass silently.\\nUnless explicitly silenced.\\nIn the face of ambiguity, refuse the temptation to guess.\\nThere should be one-- and preferably only one --obvious way to do it.\\nAlthough that way may not be obvious at first unless you're Dutch.\\nNow is better than never.\\nAlthough never is often better than *right* now.\\nIf the implementation is hard to explain, it's a bad idea.\\nIf the implementation is easy to explain, it may be a good idea.\\nNamespaces are one honking great idea -- let's do more of those!\""
      ]
     },
     "execution_count": 8,
     "metadata": {},
     "output_type": "execute_result"
    }
   ],
   "source": [
    "io.read()"
   ]
  },
  {
   "cell_type": "code",
   "execution_count": 9,
   "metadata": {},
   "outputs": [],
   "source": [
    "io.close()"
   ]
  },
  {
   "cell_type": "code",
   "execution_count": 10,
   "metadata": {},
   "outputs": [
    {
     "data": {
      "text/plain": [
       "True"
      ]
     },
     "execution_count": 10,
     "metadata": {},
     "output_type": "execute_result"
    }
   ],
   "source": [
    "io.closed"
   ]
  },
  {
   "cell_type": "code",
   "execution_count": 12,
   "metadata": {},
   "outputs": [],
   "source": [
    "#open?"
   ]
  },
  {
   "cell_type": "markdown",
   "metadata": {},
   "source": [
    "# numpy pkg for reading files\n",
    "- loadtxt\n",
    "- genfrom txt"
   ]
  },
  {
   "cell_type": "code",
   "execution_count": 16,
   "metadata": {},
   "outputs": [
    {
     "data": {
      "text/plain": [
       "array([[1., 0., 0., ..., 0., 0., 0.],\n",
       "       [0., 0., 0., ..., 0., 0., 0.],\n",
       "       [1., 0., 0., ..., 0., 0., 0.],\n",
       "       ...,\n",
       "       [2., 0., 0., ..., 0., 0., 0.],\n",
       "       [0., 0., 0., ..., 0., 0., 0.],\n",
       "       [5., 0., 0., ..., 0., 0., 0.]])"
      ]
     },
     "execution_count": 16,
     "metadata": {},
     "output_type": "execute_result"
    }
   ],
   "source": [
    "import numpy as np\n",
    "np_array=np.loadtxt(\"data/mnist_digits.csv\",delimiter=\",\")\n",
    "np_array"
   ]
  },
  {
   "cell_type": "code",
   "execution_count": 17,
   "metadata": {},
   "outputs": [
    {
     "data": {
      "text/plain": [
       "numpy.ndarray"
      ]
     },
     "execution_count": 17,
     "metadata": {},
     "output_type": "execute_result"
    }
   ],
   "source": [
    "type(np_array)"
   ]
  },
  {
   "cell_type": "code",
   "execution_count": 18,
   "metadata": {},
   "outputs": [
    {
     "data": {
      "text/plain": [
       "(100, 785)"
      ]
     },
     "execution_count": 18,
     "metadata": {},
     "output_type": "execute_result"
    }
   ],
   "source": [
    "np_array.shape # 100 samples 785 features"
   ]
  },
  {
   "cell_type": "code",
   "execution_count": 21,
   "metadata": {},
   "outputs": [
    {
     "data": {
      "text/plain": [
       "array([  0.,   0.,   0.,   0.,   0.,   0.,   0.,   0.,   0.,   0.,   0.,\n",
       "         0.,   0.,   0.,   0.,   0.,   0.,   0.,   0.,   0.,   0.,   0.,\n",
       "         0.,   0.,   0.,   0.,   0.,   0.,   0.,   0.,   0.,   0.,   0.,\n",
       "         0.,   0.,   0.,   0.,   0.,   0.,   0.,   0.,   0.,   0.,   0.,\n",
       "         0.,   0.,   0.,   0.,   0.,   0.,   0.,   0.,   0.,   0.,   0.,\n",
       "         0.,   0.,   0.,   0.,   0.,   0.,   0.,   0.,   0.,   0.,   0.,\n",
       "         0.,   0.,   0.,   0.,   0.,   0.,   0.,   0.,   0.,   0.,   0.,\n",
       "         0.,   0.,   0.,   0.,   0.,   0.,   0.,   0.,   0.,   0.,   0.,\n",
       "         0.,   0.,   0.,   0.,   0.,   0.,   0.,   0.,   0.,   0.,   0.,\n",
       "         0.,   0.,   0.,   0.,   0.,   0.,   0.,   0.,   0.,   0.,   0.,\n",
       "         0.,   0.,   0.,   0.,   0.,   0.,   0.,   0.,   0.,   0.,   0.,\n",
       "         0.,   0.,   0.,   0.,   0.,   0.,   0.,   0.,   0.,   0.,   0.,\n",
       "       188., 255.,  94.,   0.,   0.,   0.,   0.,   0.,   0.,   0.,   0.,\n",
       "         0.,   0.,   0.,   0.,   0.,   0.,   0.,   0.,   0.,   0.,   0.,\n",
       "         0.,   0.,   0.,   0.,   0., 191., 250., 253.,  93.,   0.,   0.,\n",
       "         0.,   0.,   0.,   0.,   0.,   0.,   0.,   0.,   0.,   0.,   0.,\n",
       "         0.,   0.,   0.,   0.,   0.,   0.,   0.,   0.,   0.,   0., 123.,\n",
       "       248., 253., 167.,  10.,   0.,   0.,   0.,   0.,   0.,   0.,   0.,\n",
       "         0.,   0.,   0.,   0.,   0.,   0.,   0.,   0.,   0.,   0.,   0.,\n",
       "         0.,   0.,   0.,   0.,  80., 247., 253., 208.,  13.,   0.,   0.,\n",
       "         0.,   0.,   0.,   0.,   0.,   0.,   0.,   0.,   0.,   0.,   0.,\n",
       "         0.,   0.,   0.,   0.,   0.,   0.,   0.,   0.,   0.,  29., 207.,\n",
       "       253., 235.,  77.,   0.,   0.,   0.,   0.,   0.,   0.,   0.,   0.,\n",
       "         0.,   0.,   0.,   0.,   0.,   0.,   0.,   0.,   0.,   0.,   0.,\n",
       "         0.,   0.,   0.,  54., 209., 253., 253.,  88.,   0.,   0.,   0.,\n",
       "         0.,   0.,   0.,   0.,   0.,   0.,   0.,   0.,   0.,   0.,   0.,\n",
       "         0.,   0.,   0.,   0.,   0.,   0.,   0.,   0.,  93., 254., 253.,\n",
       "       238., 170.,  17.,   0.,   0.,   0.,   0.,   0.,   0.,   0.,   0.,\n",
       "         0.,   0.,   0.,   0.,   0.,   0.,   0.,   0.,   0.,   0.,   0.,\n",
       "         0.,   0.,  23., 210., 254., 253., 159.,   0.,   0.,   0.,   0.,\n",
       "         0.,   0.,   0.,   0.,   0.,   0.,   0.,   0.,   0.,   0.,   0.,\n",
       "         0.,   0.,   0.,   0.,   0.,   0.,   0.,  16., 209., 253., 254.,\n",
       "       240.,  81.,   0.,   0.,   0.,   0.,   0.,   0.,   0.,   0.,   0.,\n",
       "         0.,   0.,   0.,   0.,   0.,   0.,   0.,   0.,   0.,   0.,   0.,\n",
       "         0.,   0.,  27., 253., 253., 254.,  13.,   0.,   0.,   0.,   0.,\n",
       "         0.,   0.,   0.,   0.,   0.,   0.,   0.,   0.,   0.,   0.,   0.,\n",
       "         0.,   0.,   0.,   0.,   0.,   0.,   0.,  20., 206., 254., 254.,\n",
       "       198.,   7.,   0.,   0.,   0.,   0.,   0.,   0.,   0.,   0.,   0.,\n",
       "         0.,   0.,   0.,   0.,   0.,   0.,   0.,   0.,   0.,   0.,   0.,\n",
       "         0.,   0., 168., 253., 253., 196.,   7.,   0.,   0.,   0.,   0.,\n",
       "         0.,   0.,   0.,   0.,   0.,   0.,   0.,   0.,   0.,   0.,   0.,\n",
       "         0.,   0.,   0.,   0.,   0.,   0.,   0.,  20., 203., 253., 248.,\n",
       "        76.,   0.,   0.,   0.,   0.,   0.,   0.,   0.,   0.,   0.,   0.,\n",
       "         0.,   0.,   0.,   0.,   0.,   0.,   0.,   0.,   0.,   0.,   0.,\n",
       "         0.,  22., 188., 253., 245.,  93.,   0.,   0.,   0.,   0.,   0.,\n",
       "         0.,   0.,   0.,   0.,   0.,   0.,   0.,   0.,   0.,   0.,   0.,\n",
       "         0.,   0.,   0.,   0.,   0.,   0.,   0., 103., 253., 253., 191.,\n",
       "         0.,   0.,   0.,   0.,   0.,   0.,   0.,   0.,   0.,   0.,   0.,\n",
       "         0.,   0.,   0.,   0.,   0.,   0.,   0.,   0.,   0.,   0.,   0.,\n",
       "         0.,  89., 240., 253., 195.,  25.,   0.,   0.,   0.,   0.,   0.,\n",
       "         0.,   0.,   0.,   0.,   0.,   0.,   0.,   0.,   0.,   0.,   0.,\n",
       "         0.,   0.,   0.,   0.,   0.,   0.,  15., 220., 253., 253.,  80.,\n",
       "         0.,   0.,   0.,   0.,   0.,   0.,   0.,   0.,   0.,   0.,   0.,\n",
       "         0.,   0.,   0.,   0.,   0.,   0.,   0.,   0.,   0.,   0.,   0.,\n",
       "         0.,  94., 253., 253., 253.,  94.,   0.,   0.,   0.,   0.,   0.,\n",
       "         0.,   0.,   0.,   0.,   0.,   0.,   0.,   0.,   0.,   0.,   0.,\n",
       "         0.,   0.,   0.,   0.,   0.,   0.,   0.,  89., 251., 253., 250.,\n",
       "       131.,   0.,   0.,   0.,   0.,   0.,   0.,   0.,   0.,   0.,   0.,\n",
       "         0.,   0.,   0.,   0.,   0.,   0.,   0.,   0.,   0.,   0.,   0.,\n",
       "         0.,   0.,   0., 214., 218.,  95.,   0.,   0.,   0.,   0.,   0.,\n",
       "         0.,   0.,   0.,   0.,   0.,   0.,   0.,   0.,   0.,   0.,   0.,\n",
       "         0.,   0.,   0.,   0.,   0.,   0.,   0.,   0.,   0.,   0.,   0.,\n",
       "         0.,   0.,   0.,   0.,   0.,   0.,   0.,   0.,   0.,   0.,   0.,\n",
       "         0.,   0.,   0.,   0.,   0.,   0.,   0.,   0.,   0.,   0.,   0.,\n",
       "         0.,   0.,   0.,   0.,   0.,   0.,   0.,   0.,   0.,   0.,   0.,\n",
       "         0.,   0.,   0.,   0.,   0.,   0.,   0.,   0.,   0.,   0.,   0.,\n",
       "         0.,   0.,   0.,   0.,   0.,   0.,   0.,   0.,   0.,   0.,   0.,\n",
       "         0.,   0.,   0.,   0.,   0.,   0.,   0.,   0.,   0.,   0.,   0.,\n",
       "         0.,   0.,   0.,   0.,   0.,   0.,   0.,   0.,   0.,   0.,   0.,\n",
       "         0.,   0.,   0.,   0.,   0.,   0.,   0.,   0.,   0.,   0.,   0.,\n",
       "         0.,   0.,   0.,   0.,   0.,   0.,   0.,   0.,   0.,   0.,   0.,\n",
       "         0.,   0.,   0.])"
      ]
     },
     "execution_count": 21,
     "metadata": {},
     "output_type": "execute_result"
    }
   ],
   "source": [
    "np_array2828=np_array[0,1:]\n",
    "np_array2828"
   ]
  },
  {
   "cell_type": "code",
   "execution_count": 23,
   "metadata": {},
   "outputs": [],
   "source": [
    "np_array2828_v1=np_array2828.reshape(28,28)"
   ]
  },
  {
   "cell_type": "code",
   "execution_count": 25,
   "metadata": {},
   "outputs": [
    {
     "data": {
      "image/png": "[encoded data removed]",
      "text/plain": [
       "<Figure size 432x288 with 1 Axes>"
      ]
     },
     "metadata": {
      "needs_background": "light"
     },
     "output_type": "display_data"
    }
   ],
   "source": [
    "import matplotlib.pyplot as plt\n",
    "plt.imshow(np_array2828_v1)\n",
    "plt.show()"
   ]
  },
  {
   "cell_type": "code",
   "execution_count": 28,
   "metadata": {},
   "outputs": [
    {
     "data": {
      "image/png": "[encoded data removed]",
      "text/plain": [
       "<Figure size 432x288 with 9 Axes>"
      ]
     },
     "metadata": {
      "needs_background": "light"
     },
     "output_type": "display_data"
    }
   ],
   "source": [
    "for i in range(0,9):\n",
    "    np_array2828=np_array[i,1:]\n",
    "    np_array2828_v1=np_array2828.reshape(28,28)\n",
    "    plt.subplot(3,3,i+1)\n",
    "    plt.imshow(np_array2828_v1)    "
   ]
  },
  {
   "cell_type": "code",
   "execution_count": 30,
   "metadata": {},
   "outputs": [],
   "source": [
    "a=plt.imread(\"data:image/png;base64,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\")"
   ]
  },
  {
   "cell_type": "code",
   "execution_count": 31,
   "metadata": {},
   "outputs": [
    {
     "data": {
      "text/plain": [
       "<matplotlib.image.AxesImage at 0x26a7bc93f28>"
      ]
     },
     "execution_count": 31,
     "metadata": {},
     "output_type": "execute_result"
    },
    {
     "data": {
      "image/png": "[encoded data removed]",
      "text/plain": [
       "<Figure size 432x288 with 1 Axes>"
      ]
     },
     "metadata": {
      "needs_background": "light"
     },
     "output_type": "display_data"
    }
   ],
   "source": [
    "plt.imshow(a)"
   ]
  },
  {
   "cell_type": "code",
   "execution_count": 33,
   "metadata": {},
   "outputs": [],
   "source": [
    "## genfromtxt"
   ]
  },
  {
   "cell_type": "code",
   "execution_count": 39,
   "metadata": {},
   "outputs": [],
   "source": [
    "#np.genfromtxt?"
   ]
  },
  {
   "cell_type": "code",
   "execution_count": 41,
   "metadata": {},
   "outputs": [
    {
     "name": "stderr",
     "output_type": "stream",
     "text": [
      "C:\\Users\\ramreddymyla\\Anaconda3\\envs\\dl\\lib\\site-packages\\ipykernel_launcher.py:1: VisibleDeprecationWarning: Reading unicode strings without specifying the encoding argument is deprecated. Set the encoding, use None for the system default.\n",
      "  \"\"\"Entry point for launching an IPython kernel.\n"
     ]
    }
   ],
   "source": [
    "np_array=np.genfromtxt(\"data/EMP.txt\",dtype=None,delimiter=\",\",skip_header=1)"
   ]
  },
  {
   "cell_type": "code",
   "execution_count": 43,
   "metadata": {},
   "outputs": [
    {
     "data": {
      "text/plain": [
       "numpy.ndarray"
      ]
     },
     "execution_count": 43,
     "metadata": {},
     "output_type": "execute_result"
    }
   ],
   "source": [
    "type(np_array)"
   ]
  },
  {
   "cell_type": "code",
   "execution_count": 44,
   "metadata": {},
   "outputs": [
    {
     "data": {
      "text/plain": [
       "1"
      ]
     },
     "execution_count": 44,
     "metadata": {},
     "output_type": "execute_result"
    }
   ],
   "source": [
    "np_array.ndim"
   ]
  },
  {
   "cell_type": "code",
   "execution_count": 45,
   "metadata": {},
   "outputs": [
    {
     "data": {
      "text/plain": [
       "(14,)"
      ]
     },
     "execution_count": 45,
     "metadata": {},
     "output_type": "execute_result"
    }
   ],
   "source": [
    "np_array.shape"
   ]
  },
  {
   "cell_type": "markdown",
   "metadata": {},
   "source": [
    "# pandas"
   ]
  },
  {
   "cell_type": "code",
   "execution_count": 46,
   "metadata": {},
   "outputs": [
    {
     "name": "stderr",
     "output_type": "stream",
     "text": [
      "C:\\Users\\ramreddymyla\\Anaconda3\\envs\\dl\\lib\\importlib\\_bootstrap.py:219: RuntimeWarning: numpy.ufunc size changed, may indicate binary incompatibility. Expected 192 from C header, got 216 from PyObject\n",
      "  return f(*args, **kwds)\n"
     ]
    }
   ],
   "source": [
    "import pandas as pd\n",
    "df =pd.read_csv(\"data/EMP.txt\")"
   ]
  },
  {
   "cell_type": "code",
   "execution_count": 47,
   "metadata": {},
   "outputs": [
    {
     "data": {
      "text/html": [
       "<div>\n",
       "<style scoped>\n",
       "    .dataframe tbody tr th:only-of-type {\n",
       "        vertical-align: middle;\n",
       "    }\n",
       "\n",
       "    .dataframe tbody tr th {\n",
       "        vertical-align: top;\n",
       "    }\n",
       "\n",
       "    .dataframe thead th {\n",
       "        text-align: right;\n",
       "    }\n",
       "</style>\n",
       "<table border=\"1\" class=\"dataframe\">\n",
       "  <thead>\n",
       "    <tr style=\"text-align: right;\">\n",
       "      <th></th>\n",
       "      <th>EMPNO</th>\n",
       "      <th>ENAME</th>\n",
       "      <th>JOB</th>\n",
       "      <th>MGR</th>\n",
       "      <th>HIREDATE</th>\n",
       "      <th>SAL</th>\n",
       "      <th>COMM</th>\n",
       "      <th>DEPTNO</th>\n",
       "    </tr>\n",
       "  </thead>\n",
       "  <tbody>\n",
       "    <tr>\n",
       "      <th>0</th>\n",
       "      <td>7693</td>\n",
       "      <td>Ram</td>\n",
       "      <td>CLERK</td>\n",
       "      <td>7902.0</td>\n",
       "      <td>17-DEC-80</td>\n",
       "      <td>960</td>\n",
       "      <td>NaN</td>\n",
       "      <td>20</td>\n",
       "    </tr>\n",
       "    <tr>\n",
       "      <th>1</th>\n",
       "      <td>7499</td>\n",
       "      <td>ALLEN</td>\n",
       "      <td>SALESMAN</td>\n",
       "      <td>7698.0</td>\n",
       "      <td>20-FEB-81</td>\n",
       "      <td>1600</td>\n",
       "      <td>300.0</td>\n",
       "      <td>30</td>\n",
       "    </tr>\n",
       "    <tr>\n",
       "      <th>2</th>\n",
       "      <td>7521</td>\n",
       "      <td>WARD</td>\n",
       "      <td>SALESMAN</td>\n",
       "      <td>7698.0</td>\n",
       "      <td>22-FEB-81</td>\n",
       "      <td>1250</td>\n",
       "      <td>500.0</td>\n",
       "      <td>30</td>\n",
       "    </tr>\n",
       "    <tr>\n",
       "      <th>3</th>\n",
       "      <td>7566</td>\n",
       "      <td>JONES</td>\n",
       "      <td>MANAGER</td>\n",
       "      <td>7839.0</td>\n",
       "      <td>02-APR-81</td>\n",
       "      <td>2975</td>\n",
       "      <td>NaN</td>\n",
       "      <td>20</td>\n",
       "    </tr>\n",
       "    <tr>\n",
       "      <th>4</th>\n",
       "      <td>7654</td>\n",
       "      <td>MARTIN</td>\n",
       "      <td>SALESMAN</td>\n",
       "      <td>7698.0</td>\n",
       "      <td>28-SEP-81</td>\n",
       "      <td>1250</td>\n",
       "      <td>1400.0</td>\n",
       "      <td>30</td>\n",
       "    </tr>\n",
       "    <tr>\n",
       "      <th>5</th>\n",
       "      <td>7698</td>\n",
       "      <td>BLAKE</td>\n",
       "      <td>MANAGER</td>\n",
       "      <td>7839.0</td>\n",
       "      <td>01-MAY-81</td>\n",
       "      <td>2850</td>\n",
       "      <td>NaN</td>\n",
       "      <td>30</td>\n",
       "    </tr>\n",
       "    <tr>\n",
       "      <th>6</th>\n",
       "      <td>7782</td>\n",
       "      <td>CLARK</td>\n",
       "      <td>MANAGER</td>\n",
       "      <td>7839.0</td>\n",
       "      <td>09-JUN-81</td>\n",
       "      <td>2450</td>\n",
       "      <td>NaN</td>\n",
       "      <td>10</td>\n",
       "    </tr>\n",
       "    <tr>\n",
       "      <th>7</th>\n",
       "      <td>7788</td>\n",
       "      <td>SCOTT</td>\n",
       "      <td>ANALYST</td>\n",
       "      <td>7566.0</td>\n",
       "      <td>19-APR-87</td>\n",
       "      <td>3000</td>\n",
       "      <td>NaN</td>\n",
       "      <td>20</td>\n",
       "    </tr>\n",
       "    <tr>\n",
       "      <th>8</th>\n",
       "      <td>7839</td>\n",
       "      <td>KING</td>\n",
       "      <td>PRESIDENT</td>\n",
       "      <td>NaN</td>\n",
       "      <td>17-NOV-81</td>\n",
       "      <td>5000</td>\n",
       "      <td>NaN</td>\n",
       "      <td>10</td>\n",
       "    </tr>\n",
       "    <tr>\n",
       "      <th>9</th>\n",
       "      <td>7844</td>\n",
       "      <td>TURNER</td>\n",
       "      <td>SALESMAN</td>\n",
       "      <td>7698.0</td>\n",
       "      <td>08-SEP-81</td>\n",
       "      <td>1500</td>\n",
       "      <td>0.0</td>\n",
       "      <td>30</td>\n",
       "    </tr>\n",
       "    <tr>\n",
       "      <th>10</th>\n",
       "      <td>7876</td>\n",
       "      <td>ADAMS</td>\n",
       "      <td>CLERK</td>\n",
       "      <td>7788.0</td>\n",
       "      <td>23-MAY-87</td>\n",
       "      <td>1100</td>\n",
       "      <td>NaN</td>\n",
       "      <td>20</td>\n",
       "    </tr>\n",
       "    <tr>\n",
       "      <th>11</th>\n",
       "      <td>7900</td>\n",
       "      <td>JAMES</td>\n",
       "      <td>CLERK</td>\n",
       "      <td>7698.0</td>\n",
       "      <td>03-DEC-81</td>\n",
       "      <td>950</td>\n",
       "      <td>NaN</td>\n",
       "      <td>30</td>\n",
       "    </tr>\n",
       "    <tr>\n",
       "      <th>12</th>\n",
       "      <td>7902</td>\n",
       "      <td>FORD</td>\n",
       "      <td>ANALYST</td>\n",
       "      <td>7566.0</td>\n",
       "      <td>03-DEC-81</td>\n",
       "      <td>3000</td>\n",
       "      <td>NaN</td>\n",
       "      <td>20</td>\n",
       "    </tr>\n",
       "    <tr>\n",
       "      <th>13</th>\n",
       "      <td>7934</td>\n",
       "      <td>MILLER</td>\n",
       "      <td>CLERK</td>\n",
       "      <td>7782.0</td>\n",
       "      <td>23-JAN-82</td>\n",
       "      <td>1300</td>\n",
       "      <td>NaN</td>\n",
       "      <td>10</td>\n",
       "    </tr>\n",
       "  </tbody>\n",
       "</table>\n",
       "</div>"
      ],
      "text/plain": [
       "    EMPNO   ENAME        JOB     MGR   HIREDATE   SAL    COMM  DEPTNO\n",
       "0    7693     Ram      CLERK  7902.0  17-DEC-80   960     NaN      20\n",
       "1    7499   ALLEN   SALESMAN  7698.0  20-FEB-81  1600   300.0      30\n",
       "2    7521    WARD   SALESMAN  7698.0  22-FEB-81  1250   500.0      30\n",
       "3    7566   JONES    MANAGER  7839.0  02-APR-81  2975     NaN      20\n",
       "4    7654  MARTIN   SALESMAN  7698.0  28-SEP-81  1250  1400.0      30\n",
       "5    7698   BLAKE    MANAGER  7839.0  01-MAY-81  2850     NaN      30\n",
       "6    7782   CLARK    MANAGER  7839.0  09-JUN-81  2450     NaN      10\n",
       "7    7788   SCOTT    ANALYST  7566.0  19-APR-87  3000     NaN      20\n",
       "8    7839    KING  PRESIDENT     NaN  17-NOV-81  5000     NaN      10\n",
       "9    7844  TURNER   SALESMAN  7698.0  08-SEP-81  1500     0.0      30\n",
       "10   7876   ADAMS      CLERK  7788.0  23-MAY-87  1100     NaN      20\n",
       "11   7900   JAMES      CLERK  7698.0  03-DEC-81   950     NaN      30\n",
       "12   7902    FORD    ANALYST  7566.0  03-DEC-81  3000     NaN      20\n",
       "13   7934  MILLER      CLERK  7782.0  23-JAN-82  1300     NaN      10"
      ]
     },
     "execution_count": 47,
     "metadata": {},
     "output_type": "execute_result"
    }
   ],
   "source": [
    "df"
   ]
  },
  {
   "cell_type": "code",
   "execution_count": 48,
   "metadata": {},
   "outputs": [
    {
     "name": "stdout",
     "output_type": "stream",
     "text": [
      "<class 'pandas.core.frame.DataFrame'>\n",
      "RangeIndex: 14 entries, 0 to 13\n",
      "Data columns (total 8 columns):\n",
      "EMPNO       14 non-null int64\n",
      "ENAME       14 non-null object\n",
      "JOB         14 non-null object\n",
      "MGR         13 non-null float64\n",
      "HIREDATE    14 non-null object\n",
      "SAL         14 non-null int64\n",
      "COMM        4 non-null float64\n",
      "DEPTNO      14 non-null int64\n",
      "dtypes: float64(2), int64(3), object(3)\n",
      "memory usage: 1.0+ KB\n"
     ]
    }
   ],
   "source": [
    "df.info()"
   ]
  },
  {
   "cell_type": "code",
   "execution_count": 49,
   "metadata": {},
   "outputs": [
    {
     "data": {
      "text/html": [
       "<div>\n",
       "<style scoped>\n",
       "    .dataframe tbody tr th:only-of-type {\n",
       "        vertical-align: middle;\n",
       "    }\n",
       "\n",
       "    .dataframe tbody tr th {\n",
       "        vertical-align: top;\n",
       "    }\n",
       "\n",
       "    .dataframe thead th {\n",
       "        text-align: right;\n",
       "    }\n",
       "</style>\n",
       "<table border=\"1\" class=\"dataframe\">\n",
       "  <thead>\n",
       "    <tr style=\"text-align: right;\">\n",
       "      <th></th>\n",
       "      <th>EMPNO</th>\n",
       "      <th>ENAME</th>\n",
       "      <th>JOB</th>\n",
       "      <th>MGR</th>\n",
       "      <th>HIREDATE</th>\n",
       "      <th>SAL</th>\n",
       "      <th>COMM</th>\n",
       "      <th>DEPTNO</th>\n",
       "    </tr>\n",
       "  </thead>\n",
       "  <tbody>\n",
       "    <tr>\n",
       "      <th>0</th>\n",
       "      <td>7693</td>\n",
       "      <td>Ram</td>\n",
       "      <td>CLERK</td>\n",
       "      <td>7902.0</td>\n",
       "      <td>17-DEC-80</td>\n",
       "      <td>960</td>\n",
       "      <td>NaN</td>\n",
       "      <td>20</td>\n",
       "    </tr>\n",
       "    <tr>\n",
       "      <th>1</th>\n",
       "      <td>7499</td>\n",
       "      <td>ALLEN</td>\n",
       "      <td>SALESMAN</td>\n",
       "      <td>7698.0</td>\n",
       "      <td>20-FEB-81</td>\n",
       "      <td>1600</td>\n",
       "      <td>300.0</td>\n",
       "      <td>30</td>\n",
       "    </tr>\n",
       "    <tr>\n",
       "      <th>2</th>\n",
       "      <td>7521</td>\n",
       "      <td>WARD</td>\n",
       "      <td>SALESMAN</td>\n",
       "      <td>7698.0</td>\n",
       "      <td>22-FEB-81</td>\n",
       "      <td>1250</td>\n",
       "      <td>500.0</td>\n",
       "      <td>30</td>\n",
       "    </tr>\n",
       "    <tr>\n",
       "      <th>3</th>\n",
       "      <td>7566</td>\n",
       "      <td>JONES</td>\n",
       "      <td>MANAGER</td>\n",
       "      <td>7839.0</td>\n",
       "      <td>02-APR-81</td>\n",
       "      <td>2975</td>\n",
       "      <td>NaN</td>\n",
       "      <td>20</td>\n",
       "    </tr>\n",
       "    <tr>\n",
       "      <th>4</th>\n",
       "      <td>7654</td>\n",
       "      <td>MARTIN</td>\n",
       "      <td>SALESMAN</td>\n",
       "      <td>7698.0</td>\n",
       "      <td>28-SEP-81</td>\n",
       "      <td>1250</td>\n",
       "      <td>1400.0</td>\n",
       "      <td>30</td>\n",
       "    </tr>\n",
       "  </tbody>\n",
       "</table>\n",
       "</div>"
      ],
      "text/plain": [
       "   EMPNO   ENAME       JOB     MGR   HIREDATE   SAL    COMM  DEPTNO\n",
       "0   7693     Ram     CLERK  7902.0  17-DEC-80   960     NaN      20\n",
       "1   7499   ALLEN  SALESMAN  7698.0  20-FEB-81  1600   300.0      30\n",
       "2   7521    WARD  SALESMAN  7698.0  22-FEB-81  1250   500.0      30\n",
       "3   7566   JONES   MANAGER  7839.0  02-APR-81  2975     NaN      20\n",
       "4   7654  MARTIN  SALESMAN  7698.0  28-SEP-81  1250  1400.0      30"
      ]
     },
     "execution_count": 49,
     "metadata": {},
     "output_type": "execute_result"
    }
   ],
   "source": [
    "df.head()"
   ]
  },
  {
   "cell_type": "code",
   "execution_count": 50,
   "metadata": {},
   "outputs": [
    {
     "data": {
      "text/html": [
       "<div>\n",
       "<style scoped>\n",
       "    .dataframe tbody tr th:only-of-type {\n",
       "        vertical-align: middle;\n",
       "    }\n",
       "\n",
       "    .dataframe tbody tr th {\n",
       "        vertical-align: top;\n",
       "    }\n",
       "\n",
       "    .dataframe thead th {\n",
       "        text-align: right;\n",
       "    }\n",
       "</style>\n",
       "<table border=\"1\" class=\"dataframe\">\n",
       "  <thead>\n",
       "    <tr style=\"text-align: right;\">\n",
       "      <th></th>\n",
       "      <th>EMPNO</th>\n",
       "      <th>ENAME</th>\n",
       "      <th>JOB</th>\n",
       "      <th>MGR</th>\n",
       "      <th>HIREDATE</th>\n",
       "      <th>SAL</th>\n",
       "      <th>COMM</th>\n",
       "      <th>DEPTNO</th>\n",
       "    </tr>\n",
       "  </thead>\n",
       "  <tbody>\n",
       "    <tr>\n",
       "      <th>9</th>\n",
       "      <td>7844</td>\n",
       "      <td>TURNER</td>\n",
       "      <td>SALESMAN</td>\n",
       "      <td>7698.0</td>\n",
       "      <td>08-SEP-81</td>\n",
       "      <td>1500</td>\n",
       "      <td>0.0</td>\n",
       "      <td>30</td>\n",
       "    </tr>\n",
       "    <tr>\n",
       "      <th>10</th>\n",
       "      <td>7876</td>\n",
       "      <td>ADAMS</td>\n",
       "      <td>CLERK</td>\n",
       "      <td>7788.0</td>\n",
       "      <td>23-MAY-87</td>\n",
       "      <td>1100</td>\n",
       "      <td>NaN</td>\n",
       "      <td>20</td>\n",
       "    </tr>\n",
       "    <tr>\n",
       "      <th>11</th>\n",
       "      <td>7900</td>\n",
       "      <td>JAMES</td>\n",
       "      <td>CLERK</td>\n",
       "      <td>7698.0</td>\n",
       "      <td>03-DEC-81</td>\n",
       "      <td>950</td>\n",
       "      <td>NaN</td>\n",
       "      <td>30</td>\n",
       "    </tr>\n",
       "    <tr>\n",
       "      <th>12</th>\n",
       "      <td>7902</td>\n",
       "      <td>FORD</td>\n",
       "      <td>ANALYST</td>\n",
       "      <td>7566.0</td>\n",
       "      <td>03-DEC-81</td>\n",
       "      <td>3000</td>\n",
       "      <td>NaN</td>\n",
       "      <td>20</td>\n",
       "    </tr>\n",
       "    <tr>\n",
       "      <th>13</th>\n",
       "      <td>7934</td>\n",
       "      <td>MILLER</td>\n",
       "      <td>CLERK</td>\n",
       "      <td>7782.0</td>\n",
       "      <td>23-JAN-82</td>\n",
       "      <td>1300</td>\n",
       "      <td>NaN</td>\n",
       "      <td>10</td>\n",
       "    </tr>\n",
       "  </tbody>\n",
       "</table>\n",
       "</div>"
      ],
      "text/plain": [
       "    EMPNO   ENAME       JOB     MGR   HIREDATE   SAL  COMM  DEPTNO\n",
       "9    7844  TURNER  SALESMAN  7698.0  08-SEP-81  1500   0.0      30\n",
       "10   7876   ADAMS     CLERK  7788.0  23-MAY-87  1100   NaN      20\n",
       "11   7900   JAMES     CLERK  7698.0  03-DEC-81   950   NaN      30\n",
       "12   7902    FORD   ANALYST  7566.0  03-DEC-81  3000   NaN      20\n",
       "13   7934  MILLER     CLERK  7782.0  23-JAN-82  1300   NaN      10"
      ]
     },
     "execution_count": 50,
     "metadata": {},
     "output_type": "execute_result"
    }
   ],
   "source": [
    "df.tail()"
   ]
  },
  {
   "cell_type": "code",
   "execution_count": 51,
   "metadata": {},
   "outputs": [
    {
     "data": {
      "text/plain": [
       "pandas.core.frame.DataFrame"
      ]
     },
     "execution_count": 51,
     "metadata": {},
     "output_type": "execute_result"
    }
   ],
   "source": [
    "type(df)"
   ]
  },
  {
   "cell_type": "code",
   "execution_count": 52,
   "metadata": {},
   "outputs": [],
   "source": [
    "# converting df into numpy array\n",
    "np_array=df.values"
   ]
  },
  {
   "cell_type": "code",
   "execution_count": 54,
   "metadata": {},
   "outputs": [
    {
     "data": {
      "text/plain": [
       "numpy.ndarray"
      ]
     },
     "execution_count": 54,
     "metadata": {},
     "output_type": "execute_result"
    }
   ],
   "source": [
    "type(np_array)"
   ]
  },
  {
   "cell_type": "code",
   "execution_count": 55,
   "metadata": {},
   "outputs": [
    {
     "data": {
      "text/plain": [
       "(14, 8)"
      ]
     },
     "execution_count": 55,
     "metadata": {},
     "output_type": "execute_result"
    }
   ],
   "source": [
    "np_array.shape"
   ]
  },
  {
   "cell_type": "code",
   "execution_count": 58,
   "metadata": {},
   "outputs": [],
   "source": [
    "s=df.SAL"
   ]
  },
  {
   "cell_type": "code",
   "execution_count": 59,
   "metadata": {},
   "outputs": [
    {
     "data": {
      "text/plain": [
       "pandas.core.series.Series"
      ]
     },
     "execution_count": 59,
     "metadata": {},
     "output_type": "execute_result"
    }
   ],
   "source": [
    "type(s)"
   ]
  },
  {
   "cell_type": "code",
   "execution_count": 60,
   "metadata": {},
   "outputs": [],
   "source": [
    "# series convert into 1 d array\n",
    "s1=s.values"
   ]
  },
  {
   "cell_type": "code",
   "execution_count": 61,
   "metadata": {},
   "outputs": [
    {
     "data": {
      "text/plain": [
       "numpy.ndarray"
      ]
     },
     "execution_count": 61,
     "metadata": {},
     "output_type": "execute_result"
    }
   ],
   "source": [
    "type(s1)"
   ]
  },
  {
   "cell_type": "code",
   "execution_count": 62,
   "metadata": {},
   "outputs": [
    {
     "data": {
      "text/plain": [
       "(14,)"
      ]
     },
     "execution_count": 62,
     "metadata": {},
     "output_type": "execute_result"
    }
   ],
   "source": [
    "s1.shape"
   ]
  },
  {
   "cell_type": "code",
   "execution_count": 63,
   "metadata": {},
   "outputs": [
    {
     "data": {
      "text/plain": [
       "1"
      ]
     },
     "execution_count": 63,
     "metadata": {},
     "output_type": "execute_result"
    }
   ],
   "source": [
    "s1.ndim"
   ]
  },
  {
   "cell_type": "code",
   "execution_count": null,
   "metadata": {},
   "outputs": [],
   "source": []
  }
 ],
 "metadata": {
  "kernelspec": {
   "display_name": "Python 3",
   "language": "python",
   "name": "python3"
  },
  "language_info": {
   "codemirror_mode": {
    "name": "ipython",
    "version": 3
   },
   "file_extension": ".py",
   "mimetype": "text/x-python",
   "name": "python",
   "nbconvert_exporter": "python",
   "pygments_lexer": "ipython3",
   "version": "3.6.9"
  }
 },
 "nbformat": 4,
 "nbformat_minor": 4
}
